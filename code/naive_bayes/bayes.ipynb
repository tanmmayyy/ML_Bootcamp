{
 "cells": [
  {
   "cell_type": "code",
   "execution_count": null,
   "id": "3e6a2972-30a9-45e8-bdc7-efeef2fc64ab",
   "metadata": {},
   "outputs": [],
   "source": []
  }
 ],
 "metadata": {
  "kernelspec": {
   "display_name": "",
   "name": ""
  },
  "language_info": {
   "name": ""
  }
 },
 "nbformat": 4,
 "nbformat_minor": 5
}
