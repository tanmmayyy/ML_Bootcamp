{
 "cells": [
  {
   "cell_type": "code",
   "execution_count": null,
   "id": "6cb19e22-a381-4d21-af2f-3fe799036dbb",
   "metadata": {},
   "outputs": [],
   "source": []
  }
 ],
 "metadata": {
  "kernelspec": {
   "display_name": "",
   "name": ""
  },
  "language_info": {
   "name": ""
  }
 },
 "nbformat": 4,
 "nbformat_minor": 5
}
