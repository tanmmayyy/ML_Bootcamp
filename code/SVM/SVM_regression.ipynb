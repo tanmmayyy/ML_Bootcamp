{
 "cells": [
  {
   "cell_type": "code",
   "execution_count": 2,
   "id": "e61e42e5-f01d-4d08-b528-85196365861b",
   "metadata": {},
   "outputs": [],
   "source": [
    "# datset (tips dataset)\n",
    "\n",
    "import seaborn as sns\n",
    "df = sns.load_dataset(\"tips\")"
   ]
  },
  {
   "cell_type": "code",
   "execution_count": 3,
   "id": "e9216501-1264-4991-84ab-c74e8348d1fe",
   "metadata": {},
   "outputs": [
    {
     "data": {
      "text/html": [
       "<div>\n",
       "<style scoped>\n",
       "    .dataframe tbody tr th:only-of-type {\n",
       "        vertical-align: middle;\n",
       "    }\n",
       "\n",
       "    .dataframe tbody tr th {\n",
       "        vertical-align: top;\n",
       "    }\n",
       "\n",
       "    .dataframe thead th {\n",
       "        text-align: right;\n",
       "    }\n",
       "</style>\n",
       "<table border=\"1\" class=\"dataframe\">\n",
       "  <thead>\n",
       "    <tr style=\"text-align: right;\">\n",
       "      <th></th>\n",
       "      <th>total_bill</th>\n",
       "      <th>tip</th>\n",
       "      <th>sex</th>\n",
       "      <th>smoker</th>\n",
       "      <th>day</th>\n",
       "      <th>time</th>\n",
       "      <th>size</th>\n",
       "    </tr>\n",
       "  </thead>\n",
       "  <tbody>\n",
       "    <tr>\n",
       "      <th>0</th>\n",
       "      <td>16.99</td>\n",
       "      <td>1.01</td>\n",
       "      <td>Female</td>\n",
       "      <td>No</td>\n",
       "      <td>Sun</td>\n",
       "      <td>Dinner</td>\n",
       "      <td>2</td>\n",
       "    </tr>\n",
       "    <tr>\n",
       "      <th>1</th>\n",
       "      <td>10.34</td>\n",
       "      <td>1.66</td>\n",
       "      <td>Male</td>\n",
       "      <td>No</td>\n",
       "      <td>Sun</td>\n",
       "      <td>Dinner</td>\n",
       "      <td>3</td>\n",
       "    </tr>\n",
       "    <tr>\n",
       "      <th>2</th>\n",
       "      <td>21.01</td>\n",
       "      <td>3.50</td>\n",
       "      <td>Male</td>\n",
       "      <td>No</td>\n",
       "      <td>Sun</td>\n",
       "      <td>Dinner</td>\n",
       "      <td>3</td>\n",
       "    </tr>\n",
       "    <tr>\n",
       "      <th>3</th>\n",
       "      <td>23.68</td>\n",
       "      <td>3.31</td>\n",
       "      <td>Male</td>\n",
       "      <td>No</td>\n",
       "      <td>Sun</td>\n",
       "      <td>Dinner</td>\n",
       "      <td>2</td>\n",
       "    </tr>\n",
       "    <tr>\n",
       "      <th>4</th>\n",
       "      <td>24.59</td>\n",
       "      <td>3.61</td>\n",
       "      <td>Female</td>\n",
       "      <td>No</td>\n",
       "      <td>Sun</td>\n",
       "      <td>Dinner</td>\n",
       "      <td>4</td>\n",
       "    </tr>\n",
       "  </tbody>\n",
       "</table>\n",
       "</div>"
      ],
      "text/plain": [
       "   total_bill   tip     sex smoker  day    time  size\n",
       "0       16.99  1.01  Female     No  Sun  Dinner     2\n",
       "1       10.34  1.66    Male     No  Sun  Dinner     3\n",
       "2       21.01  3.50    Male     No  Sun  Dinner     3\n",
       "3       23.68  3.31    Male     No  Sun  Dinner     2\n",
       "4       24.59  3.61  Female     No  Sun  Dinner     4"
      ]
     },
     "execution_count": 3,
     "metadata": {},
     "output_type": "execute_result"
    }
   ],
   "source": [
    "df.head()"
   ]
  },
  {
   "cell_type": "code",
   "execution_count": 4,
   "id": "9f505e60-52bd-4f98-b242-d85b76b62f55",
   "metadata": {},
   "outputs": [
    {
     "name": "stdout",
     "output_type": "stream",
     "text": [
      "<class 'pandas.core.frame.DataFrame'>\n",
      "RangeIndex: 244 entries, 0 to 243\n",
      "Data columns (total 7 columns):\n",
      " #   Column      Non-Null Count  Dtype   \n",
      "---  ------      --------------  -----   \n",
      " 0   total_bill  244 non-null    float64 \n",
      " 1   tip         244 non-null    float64 \n",
      " 2   sex         244 non-null    category\n",
      " 3   smoker      244 non-null    category\n",
      " 4   day         244 non-null    category\n",
      " 5   time        244 non-null    category\n",
      " 6   size        244 non-null    int64   \n",
      "dtypes: category(4), float64(2), int64(1)\n",
      "memory usage: 7.4 KB\n"
     ]
    }
   ],
   "source": [
    "df.info()"
   ]
  },
  {
   "cell_type": "code",
   "execution_count": 5,
   "id": "5587ec26-4227-4034-83ff-3a56a0876001",
   "metadata": {},
   "outputs": [
    {
     "data": {
      "text/plain": [
       "sex\n",
       "Male      157\n",
       "Female     87\n",
       "Name: count, dtype: int64"
      ]
     },
     "execution_count": 5,
     "metadata": {},
     "output_type": "execute_result"
    }
   ],
   "source": [
    "df[\"sex\"].value_counts()"
   ]
  },
  {
   "cell_type": "code",
   "execution_count": 6,
   "id": "f89abfde-17c3-47ed-9369-24b5502d0bbf",
   "metadata": {},
   "outputs": [
    {
     "data": {
      "text/plain": [
       "smoker\n",
       "No     151\n",
       "Yes     93\n",
       "Name: count, dtype: int64"
      ]
     },
     "execution_count": 6,
     "metadata": {},
     "output_type": "execute_result"
    }
   ],
   "source": [
    "df[\"smoker\"].value_counts()"
   ]
  },
  {
   "cell_type": "code",
   "execution_count": 7,
   "id": "a39cc197-c5a1-42cd-ab13-d97ff211d526",
   "metadata": {},
   "outputs": [
    {
     "data": {
      "text/plain": [
       "day\n",
       "Sat     87\n",
       "Sun     76\n",
       "Thur    62\n",
       "Fri     19\n",
       "Name: count, dtype: int64"
      ]
     },
     "execution_count": 7,
     "metadata": {},
     "output_type": "execute_result"
    }
   ],
   "source": [
    "df[\"day\"].value_counts()"
   ]
  },
  {
   "cell_type": "code",
   "execution_count": 8,
   "id": "9966fae4-d536-47ec-a58f-80576f00fd13",
   "metadata": {},
   "outputs": [
    {
     "data": {
      "text/plain": [
       "time\n",
       "Dinner    176\n",
       "Lunch      68\n",
       "Name: count, dtype: int64"
      ]
     },
     "execution_count": 8,
     "metadata": {},
     "output_type": "execute_result"
    }
   ],
   "source": [
    "df[\"time\"].value_counts()"
   ]
  },
  {
   "cell_type": "code",
   "execution_count": 9,
   "id": "7a6bff1b-9e04-4bb8-89d4-69b68d0b98a8",
   "metadata": {},
   "outputs": [
    {
     "data": {
      "text/plain": [
       "Index(['total_bill', 'tip', 'sex', 'smoker', 'day', 'time', 'size'], dtype='object')"
      ]
     },
     "execution_count": 9,
     "metadata": {},
     "output_type": "execute_result"
    }
   ],
   "source": [
    "df.columns"
   ]
  },
  {
   "cell_type": "code",
   "execution_count": 10,
   "id": "a5eb24c4-c3da-44a5-8bfa-aa94f03b488e",
   "metadata": {},
   "outputs": [],
   "source": [
    "X = df[['tip', 'sex', 'smoker', 'day', 'time', 'size']]\n",
    "y = df[\"total_bill\"]"
   ]
  },
  {
   "cell_type": "code",
   "execution_count": 11,
   "id": "d191ede4-b89e-4408-92ea-9ade7d6d3e50",
   "metadata": {},
   "outputs": [],
   "source": [
    "# train_test_split\n",
    "\n",
    "from sklearn.model_selection import train_test_split\n",
    "\n",
    "X_train, X_test, y_train, y_test = train_test_split(X, y, test_size = 0.25, random_state = 42)"
   ]
  },
  {
   "cell_type": "code",
   "execution_count": 12,
   "id": "a4474055-e7cc-418e-a607-bd4bb42595cf",
   "metadata": {},
   "outputs": [
    {
     "data": {
      "text/html": [
       "<div>\n",
       "<style scoped>\n",
       "    .dataframe tbody tr th:only-of-type {\n",
       "        vertical-align: middle;\n",
       "    }\n",
       "\n",
       "    .dataframe tbody tr th {\n",
       "        vertical-align: top;\n",
       "    }\n",
       "\n",
       "    .dataframe thead th {\n",
       "        text-align: right;\n",
       "    }\n",
       "</style>\n",
       "<table border=\"1\" class=\"dataframe\">\n",
       "  <thead>\n",
       "    <tr style=\"text-align: right;\">\n",
       "      <th></th>\n",
       "      <th>tip</th>\n",
       "      <th>sex</th>\n",
       "      <th>smoker</th>\n",
       "      <th>day</th>\n",
       "      <th>time</th>\n",
       "      <th>size</th>\n",
       "    </tr>\n",
       "  </thead>\n",
       "  <tbody>\n",
       "    <tr>\n",
       "      <th>115</th>\n",
       "      <td>3.50</td>\n",
       "      <td>Female</td>\n",
       "      <td>No</td>\n",
       "      <td>Sun</td>\n",
       "      <td>Dinner</td>\n",
       "      <td>2</td>\n",
       "    </tr>\n",
       "    <tr>\n",
       "      <th>181</th>\n",
       "      <td>5.65</td>\n",
       "      <td>Male</td>\n",
       "      <td>Yes</td>\n",
       "      <td>Sun</td>\n",
       "      <td>Dinner</td>\n",
       "      <td>2</td>\n",
       "    </tr>\n",
       "    <tr>\n",
       "      <th>225</th>\n",
       "      <td>2.50</td>\n",
       "      <td>Female</td>\n",
       "      <td>Yes</td>\n",
       "      <td>Fri</td>\n",
       "      <td>Lunch</td>\n",
       "      <td>2</td>\n",
       "    </tr>\n",
       "    <tr>\n",
       "      <th>68</th>\n",
       "      <td>2.01</td>\n",
       "      <td>Male</td>\n",
       "      <td>No</td>\n",
       "      <td>Sat</td>\n",
       "      <td>Dinner</td>\n",
       "      <td>2</td>\n",
       "    </tr>\n",
       "    <tr>\n",
       "      <th>104</th>\n",
       "      <td>4.08</td>\n",
       "      <td>Female</td>\n",
       "      <td>No</td>\n",
       "      <td>Sat</td>\n",
       "      <td>Dinner</td>\n",
       "      <td>2</td>\n",
       "    </tr>\n",
       "  </tbody>\n",
       "</table>\n",
       "</div>"
      ],
      "text/plain": [
       "      tip     sex smoker  day    time  size\n",
       "115  3.50  Female     No  Sun  Dinner     2\n",
       "181  5.65    Male    Yes  Sun  Dinner     2\n",
       "225  2.50  Female    Yes  Fri   Lunch     2\n",
       "68   2.01    Male     No  Sat  Dinner     2\n",
       "104  4.08  Female     No  Sat  Dinner     2"
      ]
     },
     "execution_count": 12,
     "metadata": {},
     "output_type": "execute_result"
    }
   ],
   "source": [
    "X_train.head()"
   ]
  },
  {
   "cell_type": "markdown",
   "id": "39523a54-1cec-440a-93e0-8894279d4599",
   "metadata": {},
   "source": [
    "## Feature encoding (Label_Encoding and OneHot Encoding)\n",
    "\n",
    "\n"
   ]
  },
  {
   "cell_type": "code",
   "execution_count": 14,
   "id": "ea02a78c-c06e-47ce-874b-c51b6acdace4",
   "metadata": {},
   "outputs": [],
   "source": [
    "# label Encoding is done for binary outputs and onehot is done for more than 2 outputs\n",
    "\n",
    "from sklearn.preprocessing import LabelEncoder"
   ]
  },
  {
   "cell_type": "code",
   "execution_count": 15,
   "id": "f5d2e9fa-c7b2-43f7-9be2-3dfc74f8bedf",
   "metadata": {},
   "outputs": [],
   "source": [
    "le1 = LabelEncoder()\n",
    "le2 = LabelEncoder()\n",
    "le3 = LabelEncoder()"
   ]
  },
  {
   "cell_type": "code",
   "execution_count": 16,
   "id": "f10e2d0c-edcf-4b93-807b-c01561c91b99",
   "metadata": {},
   "outputs": [],
   "source": [
    "X_train[\"sex\"] = le1.fit_transform(X_train[\"sex\"])\n",
    "X_train[\"smoker\"] = le2.fit_transform(X_train[\"smoker\"])\n",
    "X_train[\"time\"] = le3.fit_transform(X_train[\"time\"])"
   ]
  },
  {
   "cell_type": "code",
   "execution_count": 17,
   "id": "628b4ce7-36f9-4b2f-97e7-dec8ef905489",
   "metadata": {},
   "outputs": [
    {
     "data": {
      "text/html": [
       "<div>\n",
       "<style scoped>\n",
       "    .dataframe tbody tr th:only-of-type {\n",
       "        vertical-align: middle;\n",
       "    }\n",
       "\n",
       "    .dataframe tbody tr th {\n",
       "        vertical-align: top;\n",
       "    }\n",
       "\n",
       "    .dataframe thead th {\n",
       "        text-align: right;\n",
       "    }\n",
       "</style>\n",
       "<table border=\"1\" class=\"dataframe\">\n",
       "  <thead>\n",
       "    <tr style=\"text-align: right;\">\n",
       "      <th></th>\n",
       "      <th>tip</th>\n",
       "      <th>sex</th>\n",
       "      <th>smoker</th>\n",
       "      <th>day</th>\n",
       "      <th>time</th>\n",
       "      <th>size</th>\n",
       "    </tr>\n",
       "  </thead>\n",
       "  <tbody>\n",
       "    <tr>\n",
       "      <th>115</th>\n",
       "      <td>3.50</td>\n",
       "      <td>0</td>\n",
       "      <td>0</td>\n",
       "      <td>Sun</td>\n",
       "      <td>0</td>\n",
       "      <td>2</td>\n",
       "    </tr>\n",
       "    <tr>\n",
       "      <th>181</th>\n",
       "      <td>5.65</td>\n",
       "      <td>1</td>\n",
       "      <td>1</td>\n",
       "      <td>Sun</td>\n",
       "      <td>0</td>\n",
       "      <td>2</td>\n",
       "    </tr>\n",
       "    <tr>\n",
       "      <th>225</th>\n",
       "      <td>2.50</td>\n",
       "      <td>0</td>\n",
       "      <td>1</td>\n",
       "      <td>Fri</td>\n",
       "      <td>1</td>\n",
       "      <td>2</td>\n",
       "    </tr>\n",
       "    <tr>\n",
       "      <th>68</th>\n",
       "      <td>2.01</td>\n",
       "      <td>1</td>\n",
       "      <td>0</td>\n",
       "      <td>Sat</td>\n",
       "      <td>0</td>\n",
       "      <td>2</td>\n",
       "    </tr>\n",
       "    <tr>\n",
       "      <th>104</th>\n",
       "      <td>4.08</td>\n",
       "      <td>0</td>\n",
       "      <td>0</td>\n",
       "      <td>Sat</td>\n",
       "      <td>0</td>\n",
       "      <td>2</td>\n",
       "    </tr>\n",
       "  </tbody>\n",
       "</table>\n",
       "</div>"
      ],
      "text/plain": [
       "      tip  sex  smoker  day  time  size\n",
       "115  3.50    0       0  Sun     0     2\n",
       "181  5.65    1       1  Sun     0     2\n",
       "225  2.50    0       1  Fri     1     2\n",
       "68   2.01    1       0  Sat     0     2\n",
       "104  4.08    0       0  Sat     0     2"
      ]
     },
     "execution_count": 17,
     "metadata": {},
     "output_type": "execute_result"
    }
   ],
   "source": [
    "X_train.head()"
   ]
  },
  {
   "cell_type": "code",
   "execution_count": 18,
   "id": "14102b5c-6b39-4880-b283-484caaf20284",
   "metadata": {},
   "outputs": [],
   "source": [
    "X_test[\"sex\"] = le1.transform(X_test[\"sex\"])\n",
    "X_test[\"smoker\"] = le2.transform(X_test[\"smoker\"])\n",
    "X_test[\"time\"] = le3.transform(X_test[\"time\"])"
   ]
  },
  {
   "cell_type": "code",
   "execution_count": 38,
   "id": "8abe6b40-902e-4a02-8736-a99105fbed91",
   "metadata": {},
   "outputs": [
    {
     "data": {
      "text/html": [
       "<div>\n",
       "<style scoped>\n",
       "    .dataframe tbody tr th:only-of-type {\n",
       "        vertical-align: middle;\n",
       "    }\n",
       "\n",
       "    .dataframe tbody tr th {\n",
       "        vertical-align: top;\n",
       "    }\n",
       "\n",
       "    .dataframe thead th {\n",
       "        text-align: right;\n",
       "    }\n",
       "</style>\n",
       "<table border=\"1\" class=\"dataframe\">\n",
       "  <thead>\n",
       "    <tr style=\"text-align: right;\">\n",
       "      <th></th>\n",
       "      <th>tip</th>\n",
       "      <th>sex</th>\n",
       "      <th>smoker</th>\n",
       "      <th>day</th>\n",
       "      <th>time</th>\n",
       "      <th>size</th>\n",
       "    </tr>\n",
       "  </thead>\n",
       "  <tbody>\n",
       "    <tr>\n",
       "      <th>24</th>\n",
       "      <td>3.18</td>\n",
       "      <td>1</td>\n",
       "      <td>0</td>\n",
       "      <td>Sat</td>\n",
       "      <td>0</td>\n",
       "      <td>2</td>\n",
       "    </tr>\n",
       "    <tr>\n",
       "      <th>6</th>\n",
       "      <td>2.00</td>\n",
       "      <td>1</td>\n",
       "      <td>0</td>\n",
       "      <td>Sun</td>\n",
       "      <td>0</td>\n",
       "      <td>2</td>\n",
       "    </tr>\n",
       "    <tr>\n",
       "      <th>153</th>\n",
       "      <td>2.00</td>\n",
       "      <td>1</td>\n",
       "      <td>0</td>\n",
       "      <td>Sun</td>\n",
       "      <td>0</td>\n",
       "      <td>4</td>\n",
       "    </tr>\n",
       "    <tr>\n",
       "      <th>211</th>\n",
       "      <td>5.16</td>\n",
       "      <td>1</td>\n",
       "      <td>1</td>\n",
       "      <td>Sat</td>\n",
       "      <td>0</td>\n",
       "      <td>4</td>\n",
       "    </tr>\n",
       "    <tr>\n",
       "      <th>198</th>\n",
       "      <td>2.00</td>\n",
       "      <td>0</td>\n",
       "      <td>1</td>\n",
       "      <td>Thur</td>\n",
       "      <td>1</td>\n",
       "      <td>2</td>\n",
       "    </tr>\n",
       "  </tbody>\n",
       "</table>\n",
       "</div>"
      ],
      "text/plain": [
       "      tip  sex  smoker   day  time  size\n",
       "24   3.18    1       0   Sat     0     2\n",
       "6    2.00    1       0   Sun     0     2\n",
       "153  2.00    1       0   Sun     0     4\n",
       "211  5.16    1       1   Sat     0     4\n",
       "198  2.00    0       1  Thur     1     2"
      ]
     },
     "execution_count": 38,
     "metadata": {},
     "output_type": "execute_result"
    }
   ],
   "source": [
    "X_test.head()"
   ]
  },
  {
   "cell_type": "code",
   "execution_count": 40,
   "id": "c5167140-4129-4910-b4b0-e45547ad0040",
   "metadata": {},
   "outputs": [],
   "source": [
    "## onehot encoding for day column\n",
    "\n",
    "from sklearn.compose import ColumnTransformer\n",
    "from sklearn.preprocessing import OneHotEncoder\n",
    "\n",
    "ct = ColumnTransformer(transformers = [('onehot', OneHotEncoder(drop = 'first'), [3])], remainder = 'passthrough')"
   ]
  },
  {
   "cell_type": "code",
   "execution_count": 44,
   "id": "b7f4ca01-43ef-41da-8e16-c3ec7323cb2b",
   "metadata": {},
   "outputs": [],
   "source": [
    "import sys\n",
    "import numpy\n",
    "numpy.set_printoptions(threshold = sys.maxsize)\n",
    "X_train = ct.fit_transform(X_train)\n"
   ]
  },
  {
   "cell_type": "code",
   "execution_count": 46,
   "id": "c406a3ed-d196-4969-84fd-4ea86ca3c20e",
   "metadata": {},
   "outputs": [],
   "source": [
    "X_test = ct.transform(X_test)"
   ]
  },
  {
   "cell_type": "code",
   "execution_count": 48,
   "id": "612f01c1-504c-4606-b45b-70645f4e8513",
   "metadata": {},
   "outputs": [
    {
     "data": {
      "text/plain": [
       "array([[1.  , 0.  , 0.  , 3.18, 1.  , 0.  , 0.  , 2.  ],\n",
       "       [0.  , 1.  , 0.  , 2.  , 1.  , 0.  , 0.  , 2.  ],\n",
       "       [0.  , 1.  , 0.  , 2.  , 1.  , 0.  , 0.  , 4.  ],\n",
       "       [1.  , 0.  , 0.  , 5.16, 1.  , 1.  , 0.  , 4.  ],\n",
       "       [0.  , 0.  , 1.  , 2.  , 0.  , 1.  , 1.  , 2.  ],\n",
       "       [0.  , 1.  , 0.  , 2.  , 1.  , 1.  , 0.  , 2.  ],\n",
       "       [0.  , 0.  , 1.  , 2.56, 1.  , 1.  , 1.  , 2.  ],\n",
       "       [0.  , 0.  , 1.  , 2.52, 0.  , 0.  , 1.  , 2.  ],\n",
       "       [0.  , 1.  , 0.  , 3.23, 1.  , 0.  , 0.  , 2.  ],\n",
       "       [0.  , 0.  , 0.  , 3.  , 0.  , 1.  , 0.  , 2.  ],\n",
       "       [0.  , 1.  , 0.  , 3.  , 1.  , 0.  , 0.  , 2.  ],\n",
       "       [1.  , 0.  , 0.  , 1.47, 1.  , 0.  , 0.  , 2.  ],\n",
       "       [0.  , 0.  , 1.  , 1.5 , 0.  , 0.  , 1.  , 2.  ],\n",
       "       [0.  , 1.  , 0.  , 2.  , 1.  , 1.  , 0.  , 2.  ],\n",
       "       [0.  , 0.  , 1.  , 1.83, 0.  , 0.  , 1.  , 1.  ],\n",
       "       [0.  , 0.  , 1.  , 1.36, 0.  , 0.  , 1.  , 3.  ],\n",
       "       [0.  , 0.  , 1.  , 4.  , 1.  , 1.  , 1.  , 3.  ],\n",
       "       [0.  , 1.  , 0.  , 3.92, 1.  , 0.  , 0.  , 2.  ],\n",
       "       [1.  , 0.  , 0.  , 2.47, 0.  , 0.  , 0.  , 2.  ],\n",
       "       [0.  , 0.  , 1.  , 5.  , 1.  , 0.  , 1.  , 5.  ],\n",
       "       [1.  , 0.  , 0.  , 2.45, 0.  , 0.  , 0.  , 4.  ],\n",
       "       [1.  , 0.  , 0.  , 3.35, 1.  , 0.  , 0.  , 3.  ],\n",
       "       [1.  , 0.  , 0.  , 4.  , 0.  , 1.  , 0.  , 2.  ],\n",
       "       [1.  , 0.  , 0.  , 1.45, 1.  , 0.  , 0.  , 2.  ],\n",
       "       [0.  , 1.  , 0.  , 3.5 , 0.  , 1.  , 0.  , 3.  ],\n",
       "       [0.  , 0.  , 1.  , 2.31, 1.  , 0.  , 1.  , 2.  ],\n",
       "       [0.  , 1.  , 0.  , 1.71, 1.  , 0.  , 0.  , 2.  ],\n",
       "       [1.  , 0.  , 0.  , 5.  , 0.  , 1.  , 0.  , 2.  ],\n",
       "       [0.  , 1.  , 0.  , 2.  , 1.  , 0.  , 0.  , 4.  ],\n",
       "       [0.  , 1.  , 0.  , 5.  , 1.  , 0.  , 0.  , 6.  ],\n",
       "       [0.  , 1.  , 0.  , 4.  , 1.  , 0.  , 0.  , 3.  ],\n",
       "       [1.  , 0.  , 0.  , 1.44, 1.  , 1.  , 0.  , 2.  ],\n",
       "       [1.  , 0.  , 0.  , 2.34, 1.  , 0.  , 0.  , 4.  ],\n",
       "       [1.  , 0.  , 0.  , 3.21, 1.  , 1.  , 0.  , 2.  ],\n",
       "       [0.  , 1.  , 0.  , 3.5 , 0.  , 0.  , 0.  , 3.  ],\n",
       "       [0.  , 0.  , 1.  , 2.92, 0.  , 0.  , 1.  , 4.  ],\n",
       "       [0.  , 0.  , 0.  , 1.5 , 1.  , 1.  , 0.  , 2.  ],\n",
       "       [0.  , 0.  , 1.  , 5.  , 0.  , 1.  , 1.  , 4.  ],\n",
       "       [0.  , 0.  , 1.  , 2.75, 0.  , 0.  , 1.  , 2.  ],\n",
       "       [1.  , 0.  , 0.  , 2.  , 1.  , 1.  , 0.  , 2.  ],\n",
       "       [1.  , 0.  , 0.  , 1.25, 1.  , 0.  , 0.  , 2.  ],\n",
       "       [0.  , 0.  , 1.  , 2.  , 0.  , 0.  , 1.  , 2.  ],\n",
       "       [0.  , 1.  , 0.  , 2.55, 1.  , 0.  , 0.  , 2.  ],\n",
       "       [0.  , 1.  , 0.  , 1.67, 0.  , 0.  , 0.  , 3.  ],\n",
       "       [0.  , 0.  , 1.  , 2.  , 1.  , 1.  , 1.  , 2.  ],\n",
       "       [1.  , 0.  , 0.  , 1.  , 0.  , 1.  , 0.  , 1.  ],\n",
       "       [1.  , 0.  , 0.  , 1.61, 0.  , 1.  , 0.  , 2.  ],\n",
       "       [1.  , 0.  , 0.  , 2.31, 1.  , 0.  , 0.  , 3.  ],\n",
       "       [0.  , 0.  , 1.  , 1.44, 1.  , 0.  , 1.  , 2.  ],\n",
       "       [1.  , 0.  , 0.  , 2.72, 1.  , 0.  , 0.  , 2.  ],\n",
       "       [1.  , 0.  , 0.  , 2.03, 1.  , 1.  , 0.  , 2.  ],\n",
       "       [0.  , 0.  , 0.  , 4.  , 1.  , 1.  , 0.  , 2.  ],\n",
       "       [0.  , 1.  , 0.  , 4.5 , 1.  , 0.  , 0.  , 4.  ],\n",
       "       [0.  , 0.  , 1.  , 2.03, 1.  , 0.  , 1.  , 2.  ],\n",
       "       [0.  , 1.  , 0.  , 3.51, 1.  , 0.  , 0.  , 2.  ],\n",
       "       [0.  , 0.  , 1.  , 2.  , 1.  , 0.  , 1.  , 2.  ],\n",
       "       [0.  , 1.  , 0.  , 5.15, 1.  , 1.  , 0.  , 2.  ],\n",
       "       [1.  , 0.  , 0.  , 1.75, 1.  , 0.  , 0.  , 2.  ],\n",
       "       [0.  , 1.  , 0.  , 2.74, 1.  , 0.  , 0.  , 3.  ],\n",
       "       [1.  , 0.  , 0.  , 3.  , 1.  , 1.  , 0.  , 3.  ],\n",
       "       [0.  , 1.  , 0.  , 5.14, 0.  , 0.  , 0.  , 5.  ]])"
      ]
     },
     "execution_count": 48,
     "metadata": {},
     "output_type": "execute_result"
    }
   ],
   "source": [
    "X_test"
   ]
  },
  {
   "cell_type": "code",
   "execution_count": null,
   "id": "2b30c56f-7082-446f-bdd1-690c14da54e2",
   "metadata": {},
   "outputs": [],
   "source": []
  }
 ],
 "metadata": {
  "kernelspec": {
   "display_name": "Python 3 (ipykernel)",
   "language": "python",
   "name": "python3"
  },
  "language_info": {
   "codemirror_mode": {
    "name": "ipython",
    "version": 3
   },
   "file_extension": ".py",
   "mimetype": "text/x-python",
   "name": "python",
   "nbconvert_exporter": "python",
   "pygments_lexer": "ipython3",
   "version": "3.12.7"
  }
 },
 "nbformat": 4,
 "nbformat_minor": 5
}
